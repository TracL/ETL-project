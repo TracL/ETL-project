{
 "cells": [
  {
   "cell_type": "markdown",
   "metadata": {},
   "source": [
    "# Frisco, TX  Real Estate Web Scraping"
   ]
  },
  {
   "cell_type": "markdown",
   "metadata": {},
   "source": [
    "## Importing Libraries"
   ]
  },
  {
   "cell_type": "code",
   "execution_count": 1,
   "metadata": {},
   "outputs": [],
   "source": [
    "from bs4 import BeautifulSoup\n",
    "from webdriver_manager.chrome import ChromeDriverManager\n",
    "from splinter import Browser\n",
    "import pandas as pd\n",
    "import pymongo"
   ]
  },
  {
   "cell_type": "markdown",
   "metadata": {},
   "source": [
    "## Setting up browser to scrape data using Splinter"
   ]
  },
  {
   "cell_type": "code",
   "execution_count": 2,
   "metadata": {},
   "outputs": [
    {
     "name": "stderr",
     "output_type": "stream",
     "text": [
      "[WDM] - ====== WebDriver manager ======\n",
      "[WDM] - Current google-chrome version is 89.0.4389\n",
      "[WDM] - Get LATEST driver version for 89.0.4389\n"
     ]
    },
    {
     "name": "stdout",
     "output_type": "stream",
     "text": [
      "\n",
      "\n"
     ]
    },
    {
     "name": "stderr",
     "output_type": "stream",
     "text": [
      "[WDM] - Driver [/Users/tiffanyelle/.wdm/drivers/chromedriver/mac64/89.0.4389.23/chromedriver] found in cache\n"
     ]
    }
   ],
   "source": [
    "executable_path = {\"executable_path\": ChromeDriverManager().install()}\n",
    "browser = Browser(\"chrome\", **executable_path, headless=False)"
   ]
  },
  {
   "cell_type": "markdown",
   "metadata": {},
   "source": [
    "##  Current Listed Properties"
   ]
  },
  {
   "cell_type": "markdown",
   "metadata": {},
   "source": [
    "### 1. Extracting Data using Web Scraping"
   ]
  },
  {
   "cell_type": "code",
   "execution_count": 3,
   "metadata": {},
   "outputs": [],
   "source": [
    "# Visit the following URL\n",
    "url = \"https://www.redfin.com/city/30844/TX/Frisco\"\n",
    "browser.visit(url)"
   ]
  },
  {
   "cell_type": "code",
   "execution_count": 4,
   "metadata": {},
   "outputs": [],
   "source": [
    "# Using BeautifulSoup to get html.parser\n",
    "html = browser.html\n",
    "soup = BeautifulSoup(html, 'html.parser')"
   ]
  },
  {
   "cell_type": "code",
   "execution_count": 5,
   "metadata": {},
   "outputs": [
    {
     "data": {
      "text/plain": [
       "[<span class=\"homecardV2Price\" data-rf-test-name=\"homecard-price\">$564,900</span>,\n",
       " <span class=\"homecardV2Price\" data-rf-test-name=\"homecard-price\">$930,000</span>,\n",
       " <span class=\"homecardV2Price\" data-rf-test-name=\"homecard-price\">$305,000</span>,\n",
       " <span class=\"homecardV2Price\" data-rf-test-name=\"homecard-price\">$549,900</span>,\n",
       " <span class=\"homecardV2Price\" data-rf-test-name=\"homecard-price\">$423,550</span>]"
      ]
     },
     "execution_count": 5,
     "metadata": {},
     "output_type": "execute_result"
    }
   ],
   "source": [
    "# Price of listed properties\n",
    "price_list = []\n",
    "price = soup.find_all('span', class_=\"homecardV2Price\")\n",
    "price[:5]"
   ]
  },
  {
   "cell_type": "code",
   "execution_count": 6,
   "metadata": {},
   "outputs": [
    {
     "data": {
      "text/plain": [
       "[<div class=\"stats\">3 Beds</div>,\n",
       " <div class=\"stats\">2.5 Baths</div>,\n",
       " <div class=\"stats\">2,997 Sq. Ft.</div>,\n",
       " <div class=\"stats\">3 Beds</div>,\n",
       " <div class=\"stats\">3.5 Baths</div>,\n",
       " <div class=\"stats\">4,228 Sq. Ft.</div>]"
      ]
     },
     "execution_count": 6,
     "metadata": {},
     "output_type": "execute_result"
    }
   ],
   "source": [
    "# Number of Beds, Baths and Sq. Ft. of listed properties\n",
    "stats = soup.find_all('div', class_=\"stats\")\n",
    "stats[:6]"
   ]
  },
  {
   "cell_type": "code",
   "execution_count": 7,
   "metadata": {},
   "outputs": [
    {
     "data": {
      "text/plain": [
       "[<div class=\"link-and-anchor\">7200 Neches Pine Dr, Frisco, TX 75036</div>,\n",
       " <div class=\"link-and-anchor\">4520 Florence Dr, Frisco, TX 75034</div>,\n",
       " <div class=\"link-and-anchor\">8016 Cool River Dr, Frisco, TX 75036</div>,\n",
       " <div class=\"link-and-anchor\">13942 Badger Creek Dr, Frisco, TX 75033</div>,\n",
       " <div class=\"link-and-anchor\">1924 Dexter Ln, Frisco, TX 75036</div>]"
      ]
     },
     "execution_count": 7,
     "metadata": {},
     "output_type": "execute_result"
    }
   ],
   "source": [
    "# Zipcode of listed properties\n",
    "zipcode = soup.find_all('div', class_=\"link-and-anchor\")\n",
    "zipcode[:5]"
   ]
  },
  {
   "cell_type": "markdown",
   "metadata": {},
   "source": [
    "### 2. Data Cleaning and Transformation to load into DB"
   ]
  },
  {
   "cell_type": "code",
   "execution_count": 8,
   "metadata": {},
   "outputs": [
    {
     "data": {
      "text/plain": [
       "[564900.0, 930000.0, 305000.0, 549900.0, 423550.0]"
      ]
     },
     "execution_count": 8,
     "metadata": {},
     "output_type": "execute_result"
    }
   ],
   "source": [
    "# Convering Price value into numeric - removing \"$\" and \",\"\n",
    "price_list = [float(p.text.replace(\"$\",\"\").replace(\",\",\"\").replace(\"+\",\"\").strip()) for p in price]\n",
    "price_list[:5]"
   ]
  },
  {
   "cell_type": "code",
   "execution_count": 9,
   "metadata": {},
   "outputs": [
    {
     "name": "stdout",
     "output_type": "stream",
     "text": [
      "Number of records in price list 41\n"
     ]
    }
   ],
   "source": [
    "print(\"Number of records in price list\", len(price_list))"
   ]
  },
  {
   "cell_type": "code",
   "execution_count": 10,
   "metadata": {},
   "outputs": [
    {
     "name": "stdout",
     "output_type": "stream",
     "text": [
      "Beds List: [3.0, 3.0, 2.0, 5.0, 3.0]\n",
      "Baths List: [2.5, 3.5, 2.0, 3.5, 2.0]\n",
      "Sq. Ft. List: [2997.0, 4228.0, 1548.0, 3556.0, 1970.0]\n"
     ]
    }
   ],
   "source": [
    "# Convering Number of Beds, Number of Baths and Area Sq. Ft. values into numeric - removing text: \"Beds\", \"Baths\", \"Sq. Ft.\"\n",
    "beds_list = []\n",
    "baths_list = []\n",
    "sq_ft_list = []\n",
    "\n",
    "for each in stats:\n",
    "    val = each.text.strip()\n",
    "    if 'Bed' in val:\n",
    "        beds_list.append(float(val.replace(\"Beds\",\"\").replace(\"Bed\",\"\").strip()))\n",
    "    elif 'Bath' in val:  \n",
    "        baths_list.append(float(val.replace(\"Baths\",\"\").replace(\"Bath\",\"\").strip()))\n",
    "    elif 'Sq. Ft.' in val:\n",
    "        sq_ft_list.append(float(val.replace(\"Sq. Ft.\",\"\").replace(\",\",\"\").strip()))\n",
    "\n",
    "print(\"Beds List:\", beds_list[:5])\n",
    "print(\"Baths List:\", baths_list[:5])\n",
    "print(\"Sq. Ft. List:\", sq_ft_list[:5])"
   ]
  },
  {
   "cell_type": "code",
   "execution_count": 11,
   "metadata": {},
   "outputs": [
    {
     "name": "stdout",
     "output_type": "stream",
     "text": [
      "Number of records in beds list 41\n",
      "Number of records in baths list 41\n",
      "Number of records in sq. ft. list 41\n"
     ]
    }
   ],
   "source": [
    "print(\"Number of records in beds list\", len(beds_list))\n",
    "print(\"Number of records in baths list\", len(baths_list))\n",
    "print(\"Number of records in sq. ft. list\", len(sq_ft_list))"
   ]
  },
  {
   "cell_type": "code",
   "execution_count": 12,
   "metadata": {},
   "outputs": [
    {
     "name": "stdout",
     "output_type": "stream",
     "text": [
      "Zipcode List: ['75036', '75034', '75036', '75033', '75036']\n"
     ]
    }
   ],
   "source": [
    "#Extracting zipcode from the complete address\n",
    "zipcode_list = []\n",
    "zipcode_list =  [z.text[-5:].strip() for z in zipcode]\n",
    "print(\"Zipcode List:\", zipcode_list[:5])"
   ]
  },
  {
   "cell_type": "code",
   "execution_count": 13,
   "metadata": {},
   "outputs": [
    {
     "name": "stdout",
     "output_type": "stream",
     "text": [
      "Number of records in zipcode list 41\n"
     ]
    }
   ],
   "source": [
    "print(\"Number of records in zipcode list\", len(zipcode_list))"
   ]
  },
  {
   "cell_type": "markdown",
   "metadata": {},
   "source": [
    "#### Creating a list of Dictionary with current listed real estate properties to load into MongoDB"
   ]
  },
  {
   "cell_type": "code",
   "execution_count": 14,
   "metadata": {},
   "outputs": [
    {
     "name": "stdout",
     "output_type": "stream",
     "text": [
      "Records to insert in DB:\n",
      "[{'ZipCode': '75036', 'NumberOfBeds': 3.0, 'NumberOfBaths': 2.5, 'SqFt': 2997.0, 'Price': 564900.0}, {'ZipCode': '75034', 'NumberOfBeds': 3.0, 'NumberOfBaths': 3.5, 'SqFt': 4228.0, 'Price': 930000.0}, {'ZipCode': '75036', 'NumberOfBeds': 2.0, 'NumberOfBaths': 2.0, 'SqFt': 1548.0, 'Price': 305000.0}, {'ZipCode': '75033', 'NumberOfBeds': 5.0, 'NumberOfBaths': 3.5, 'SqFt': 3556.0, 'Price': 549900.0}, {'ZipCode': '75036', 'NumberOfBeds': 3.0, 'NumberOfBaths': 2.0, 'SqFt': 1970.0, 'Price': 423550.0}]\n"
     ]
    }
   ],
   "source": [
    "current_listing = []\n",
    "\n",
    "for i in range(len(zipcode_list)):\n",
    "    temp_dict = {\"ZipCode\":zipcode_list[i], \"NumberOfBeds\": beds_list[i], \"NumberOfBaths\": baths_list[i], \n",
    "           \"SqFt\": sq_ft_list[i], \"Price\":price_list[i]}\n",
    "    current_listing.append(temp_dict)\n",
    "    \n",
    "print(\"Records to insert in DB:\")\n",
    "print(current_listing[:5])"
   ]
  },
  {
   "cell_type": "markdown",
   "metadata": {},
   "source": [
    "### 3. Loading data into Mongo DB"
   ]
  },
  {
   "cell_type": "code",
   "execution_count": 15,
   "metadata": {},
   "outputs": [],
   "source": [
    "# Making connection\n",
    "conn = 'mongodb://localhost:27017'\n",
    "client = pymongo.MongoClient(conn)\n",
    "\n",
    "# Define the 'RealEstate' database in Mongo\n",
    "db = client.RealEstate"
   ]
  },
  {
   "cell_type": "code",
   "execution_count": 16,
   "metadata": {},
   "outputs": [],
   "source": [
    "# collection 'current_listing'\n",
    "current_listing_collection = db.current_listing_collection"
   ]
  },
  {
   "cell_type": "code",
   "execution_count": 17,
   "metadata": {},
   "outputs": [],
   "source": [
    "# Loading Data into collection table\n",
    "for i in current_listing:\n",
    "    db.current_listing_collection.insert_one(i)"
   ]
  },
  {
   "cell_type": "code",
   "execution_count": 18,
   "metadata": {},
   "outputs": [
    {
     "name": "stdout",
     "output_type": "stream",
     "text": [
      "{'_id': ObjectId('6062623af14bffb3486fd800'), 'ZipCode': '75036', 'NumberOfBeds': 3.0, 'NumberOfBaths': 2.5, 'SqFt': 2997.0, 'Price': 564900.0}\n",
      "{'_id': ObjectId('6062623af14bffb3486fd801'), 'ZipCode': '75034', 'NumberOfBeds': 3.0, 'NumberOfBaths': 3.5, 'SqFt': 4228.0, 'Price': 930000.0}\n",
      "{'_id': ObjectId('6062623af14bffb3486fd802'), 'ZipCode': '75036', 'NumberOfBeds': 2.0, 'NumberOfBaths': 2.0, 'SqFt': 1548.0, 'Price': 305000.0}\n",
      "{'_id': ObjectId('6062623af14bffb3486fd803'), 'ZipCode': '75033', 'NumberOfBeds': 5.0, 'NumberOfBaths': 3.5, 'SqFt': 3556.0, 'Price': 549900.0}\n",
      "{'_id': ObjectId('6062623af14bffb3486fd804'), 'ZipCode': '75036', 'NumberOfBeds': 3.0, 'NumberOfBaths': 2.0, 'SqFt': 1970.0, 'Price': 423550.0}\n",
      "{'_id': ObjectId('6062623af14bffb3486fd805'), 'ZipCode': '75035', 'NumberOfBeds': 4.0, 'NumberOfBaths': 3.0, 'SqFt': 3676.0, 'Price': 599900.0}\n",
      "{'_id': ObjectId('6062623af14bffb3486fd806'), 'ZipCode': '75036', 'NumberOfBeds': 5.0, 'NumberOfBaths': 3.5, 'SqFt': 3936.0, 'Price': 520000.0}\n",
      "{'_id': ObjectId('6062623af14bffb3486fd807'), 'ZipCode': '75033', 'NumberOfBeds': 5.0, 'NumberOfBaths': 4.5, 'SqFt': 4147.0, 'Price': 774900.0}\n",
      "{'_id': ObjectId('6062623af14bffb3486fd808'), 'ZipCode': '75033', 'NumberOfBeds': 3.0, 'NumberOfBaths': 3.5, 'SqFt': 3432.0, 'Price': 869900.0}\n",
      "{'_id': ObjectId('6062623af14bffb3486fd809'), 'ZipCode': '75033', 'NumberOfBeds': 3.0, 'NumberOfBaths': 2.0, 'SqFt': 1533.0, 'Price': 274900.0}\n",
      "{'_id': ObjectId('6062623af14bffb3486fd80a'), 'ZipCode': '75033', 'NumberOfBeds': 4.0, 'NumberOfBaths': 3.5, 'SqFt': 3600.0, 'Price': 479000.0}\n",
      "{'_id': ObjectId('6062623af14bffb3486fd80b'), 'ZipCode': '75035', 'NumberOfBeds': 4.0, 'NumberOfBaths': 3.5, 'SqFt': 3178.0, 'Price': 465000.0}\n",
      "{'_id': ObjectId('6062623af14bffb3486fd80c'), 'ZipCode': '75034', 'NumberOfBeds': 5.0, 'NumberOfBaths': 4.5, 'SqFt': 5855.0, 'Price': 1099000.0}\n",
      "{'_id': ObjectId('6062623af14bffb3486fd80d'), 'ZipCode': '75033', 'NumberOfBeds': 5.0, 'NumberOfBaths': 6.0, 'SqFt': 4854.0, 'Price': 1299000.0}\n",
      "{'_id': ObjectId('6062623af14bffb3486fd80e'), 'ZipCode': '75034', 'NumberOfBeds': 5.0, 'NumberOfBaths': 3.5, 'SqFt': 4165.0, 'Price': 889000.0}\n",
      "{'_id': ObjectId('6062623af14bffb3486fd80f'), 'ZipCode': '75033', 'NumberOfBeds': 4.0, 'NumberOfBaths': 3.5, 'SqFt': 2845.0, 'Price': 489900.0}\n",
      "{'_id': ObjectId('6062623af14bffb3486fd810'), 'ZipCode': '75033', 'NumberOfBeds': 4.0, 'NumberOfBaths': 2.5, 'SqFt': 2574.0, 'Price': 449900.0}\n",
      "{'_id': ObjectId('6062623af14bffb3486fd811'), 'ZipCode': '75035', 'NumberOfBeds': 4.0, 'NumberOfBaths': 2.0, 'SqFt': 2073.0, 'Price': 325000.0}\n",
      "{'_id': ObjectId('6062623af14bffb3486fd812'), 'ZipCode': '75034', 'NumberOfBeds': 2.0, 'NumberOfBaths': 2.5, 'SqFt': 1818.0, 'Price': 340000.0}\n",
      "{'_id': ObjectId('6062623af14bffb3486fd813'), 'ZipCode': '75033', 'NumberOfBeds': 4.0, 'NumberOfBaths': 2.0, 'SqFt': 2096.0, 'Price': 350000.0}\n",
      "{'_id': ObjectId('6062623af14bffb3486fd814'), 'ZipCode': '75035', 'NumberOfBeds': 3.0, 'NumberOfBaths': 2.5, 'SqFt': 1396.0, 'Price': 295000.0}\n",
      "{'_id': ObjectId('6062623af14bffb3486fd815'), 'ZipCode': '75034', 'NumberOfBeds': 3.0, 'NumberOfBaths': 2.5, 'SqFt': 2383.0, 'Price': 439900.0}\n",
      "{'_id': ObjectId('6062623af14bffb3486fd816'), 'ZipCode': '75035', 'NumberOfBeds': 4.0, 'NumberOfBaths': 3.5, 'SqFt': 2860.0, 'Price': 445900.0}\n",
      "{'_id': ObjectId('6062623af14bffb3486fd817'), 'ZipCode': '75034', 'NumberOfBeds': 4.0, 'NumberOfBaths': 4.0, 'SqFt': 4967.0, 'Price': 900000.0}\n",
      "{'_id': ObjectId('6062623af14bffb3486fd818'), 'ZipCode': '75035', 'NumberOfBeds': 4.0, 'NumberOfBaths': 2.0, 'SqFt': 2027.0, 'Price': 375000.0}\n",
      "{'_id': ObjectId('6062623af14bffb3486fd819'), 'ZipCode': '75033', 'NumberOfBeds': 3.0, 'NumberOfBaths': 2.0, 'SqFt': 2236.0, 'Price': 389900.0}\n",
      "{'_id': ObjectId('6062623af14bffb3486fd81a'), 'ZipCode': '75034', 'NumberOfBeds': 2.0, 'NumberOfBaths': 2.5, 'SqFt': 1706.0, 'Price': 425000.0}\n",
      "{'_id': ObjectId('6062623af14bffb3486fd81b'), 'ZipCode': '75035', 'NumberOfBeds': 4.0, 'NumberOfBaths': 2.5, 'SqFt': 3071.0, 'Price': 515000.0}\n",
      "{'_id': ObjectId('6062623af14bffb3486fd81c'), 'ZipCode': '75035', 'NumberOfBeds': 3.0, 'NumberOfBaths': 2.0, 'SqFt': 1417.0, 'Price': 339999.0}\n",
      "{'_id': ObjectId('6062623af14bffb3486fd81d'), 'ZipCode': '75035', 'NumberOfBeds': 3.0, 'NumberOfBaths': 2.0, 'SqFt': 2169.0, 'Price': 365000.0}\n",
      "{'_id': ObjectId('6062623af14bffb3486fd81e'), 'ZipCode': '75036', 'NumberOfBeds': 4.0, 'NumberOfBaths': 2.5, 'SqFt': 2462.0, 'Price': 380000.0}\n",
      "{'_id': ObjectId('6062623af14bffb3486fd81f'), 'ZipCode': '75034', 'NumberOfBeds': 5.0, 'NumberOfBaths': 4.0, 'SqFt': 4472.0, 'Price': 1199000.0}\n",
      "{'_id': ObjectId('6062623af14bffb3486fd820'), 'ZipCode': '75034', 'NumberOfBeds': 5.0, 'NumberOfBaths': 4.0, 'SqFt': 4002.0, 'Price': 1152990.0}\n",
      "{'_id': ObjectId('6062623af14bffb3486fd821'), 'ZipCode': '75024', 'NumberOfBeds': 4.0, 'NumberOfBaths': 4.5, 'SqFt': 5392.0, 'Price': 5100000.0}\n",
      "{'_id': ObjectId('6062623af14bffb3486fd822'), 'ZipCode': '75033', 'NumberOfBeds': 4.0, 'NumberOfBaths': 4.5, 'SqFt': 3412.0, 'Price': 625000.0}\n",
      "{'_id': ObjectId('6062623af14bffb3486fd823'), 'ZipCode': '75034', 'NumberOfBeds': 4.0, 'NumberOfBaths': 3.5, 'SqFt': 3027.0, 'Price': 530000.0}\n",
      "{'_id': ObjectId('6062623af14bffb3486fd824'), 'ZipCode': '75035', 'NumberOfBeds': 4.0, 'NumberOfBaths': 3.5, 'SqFt': 3102.0, 'Price': 505000.0}\n",
      "{'_id': ObjectId('6062623af14bffb3486fd825'), 'ZipCode': '75035', 'NumberOfBeds': 4.0, 'NumberOfBaths': 3.0, 'SqFt': 1963.0, 'Price': 454000.0}\n",
      "{'_id': ObjectId('6062623af14bffb3486fd826'), 'ZipCode': '75034', 'NumberOfBeds': 3.0, 'NumberOfBaths': 2.5, 'SqFt': 2227.0, 'Price': 420990.0}\n",
      "{'_id': ObjectId('6062623af14bffb3486fd827'), 'ZipCode': '75036', 'NumberOfBeds': 5.0, 'NumberOfBaths': 4.0, 'SqFt': 3372.0, 'Price': 640000.0}\n",
      "{'_id': ObjectId('6062623af14bffb3486fd828'), 'ZipCode': '75035', 'NumberOfBeds': 5.0, 'NumberOfBaths': 3.5, 'SqFt': 3251.0, 'Price': 495000.0}\n",
      "{'_id': ObjectId('606269b307b07bf6b10088fb'), 'ZipCode': '75036', 'NumberOfBeds': 3.0, 'NumberOfBaths': 2.5, 'SqFt': 2997.0, 'Price': 564900.0}\n",
      "{'_id': ObjectId('606269b307b07bf6b10088fc'), 'ZipCode': '75034', 'NumberOfBeds': 3.0, 'NumberOfBaths': 3.5, 'SqFt': 4228.0, 'Price': 930000.0}\n",
      "{'_id': ObjectId('606269b307b07bf6b10088fd'), 'ZipCode': '75036', 'NumberOfBeds': 2.0, 'NumberOfBaths': 2.0, 'SqFt': 1548.0, 'Price': 305000.0}\n",
      "{'_id': ObjectId('606269b307b07bf6b10088fe'), 'ZipCode': '75033', 'NumberOfBeds': 5.0, 'NumberOfBaths': 3.5, 'SqFt': 3556.0, 'Price': 549900.0}\n",
      "{'_id': ObjectId('606269b307b07bf6b10088ff'), 'ZipCode': '75036', 'NumberOfBeds': 3.0, 'NumberOfBaths': 2.0, 'SqFt': 1970.0, 'Price': 423550.0}\n",
      "{'_id': ObjectId('606269b307b07bf6b1008900'), 'ZipCode': '75035', 'NumberOfBeds': 4.0, 'NumberOfBaths': 3.0, 'SqFt': 3676.0, 'Price': 599900.0}\n",
      "{'_id': ObjectId('606269b307b07bf6b1008901'), 'ZipCode': '75036', 'NumberOfBeds': 5.0, 'NumberOfBaths': 3.5, 'SqFt': 3936.0, 'Price': 520000.0}\n",
      "{'_id': ObjectId('606269b307b07bf6b1008902'), 'ZipCode': '75033', 'NumberOfBeds': 5.0, 'NumberOfBaths': 4.5, 'SqFt': 4147.0, 'Price': 774900.0}\n",
      "{'_id': ObjectId('606269b307b07bf6b1008903'), 'ZipCode': '75033', 'NumberOfBeds': 3.0, 'NumberOfBaths': 3.5, 'SqFt': 3432.0, 'Price': 869900.0}\n",
      "{'_id': ObjectId('606269b307b07bf6b1008904'), 'ZipCode': '75033', 'NumberOfBeds': 3.0, 'NumberOfBaths': 2.0, 'SqFt': 1533.0, 'Price': 274900.0}\n",
      "{'_id': ObjectId('606269b307b07bf6b1008905'), 'ZipCode': '75033', 'NumberOfBeds': 4.0, 'NumberOfBaths': 3.5, 'SqFt': 3600.0, 'Price': 479000.0}\n",
      "{'_id': ObjectId('606269b307b07bf6b1008906'), 'ZipCode': '75035', 'NumberOfBeds': 4.0, 'NumberOfBaths': 3.5, 'SqFt': 3178.0, 'Price': 465000.0}\n",
      "{'_id': ObjectId('606269b307b07bf6b1008907'), 'ZipCode': '75034', 'NumberOfBeds': 5.0, 'NumberOfBaths': 4.5, 'SqFt': 5855.0, 'Price': 1099000.0}\n",
      "{'_id': ObjectId('606269b307b07bf6b1008908'), 'ZipCode': '75033', 'NumberOfBeds': 5.0, 'NumberOfBaths': 6.0, 'SqFt': 4854.0, 'Price': 1299000.0}\n",
      "{'_id': ObjectId('606269b307b07bf6b1008909'), 'ZipCode': '75034', 'NumberOfBeds': 5.0, 'NumberOfBaths': 3.5, 'SqFt': 4165.0, 'Price': 889000.0}\n",
      "{'_id': ObjectId('606269b307b07bf6b100890a'), 'ZipCode': '75033', 'NumberOfBeds': 4.0, 'NumberOfBaths': 3.5, 'SqFt': 2845.0, 'Price': 489900.0}\n",
      "{'_id': ObjectId('606269b307b07bf6b100890b'), 'ZipCode': '75033', 'NumberOfBeds': 4.0, 'NumberOfBaths': 2.5, 'SqFt': 2574.0, 'Price': 449900.0}\n",
      "{'_id': ObjectId('606269b307b07bf6b100890c'), 'ZipCode': '75035', 'NumberOfBeds': 4.0, 'NumberOfBaths': 2.0, 'SqFt': 2073.0, 'Price': 325000.0}\n",
      "{'_id': ObjectId('606269b307b07bf6b100890d'), 'ZipCode': '75034', 'NumberOfBeds': 2.0, 'NumberOfBaths': 2.5, 'SqFt': 1818.0, 'Price': 340000.0}\n",
      "{'_id': ObjectId('606269b307b07bf6b100890e'), 'ZipCode': '75033', 'NumberOfBeds': 4.0, 'NumberOfBaths': 2.0, 'SqFt': 2096.0, 'Price': 350000.0}\n",
      "{'_id': ObjectId('606269b307b07bf6b100890f'), 'ZipCode': '75035', 'NumberOfBeds': 3.0, 'NumberOfBaths': 2.5, 'SqFt': 1396.0, 'Price': 295000.0}\n",
      "{'_id': ObjectId('606269b307b07bf6b1008910'), 'ZipCode': '75034', 'NumberOfBeds': 3.0, 'NumberOfBaths': 2.5, 'SqFt': 2383.0, 'Price': 439900.0}\n",
      "{'_id': ObjectId('606269b307b07bf6b1008911'), 'ZipCode': '75035', 'NumberOfBeds': 4.0, 'NumberOfBaths': 3.5, 'SqFt': 2860.0, 'Price': 445900.0}\n",
      "{'_id': ObjectId('606269b307b07bf6b1008912'), 'ZipCode': '75034', 'NumberOfBeds': 4.0, 'NumberOfBaths': 4.0, 'SqFt': 4967.0, 'Price': 900000.0}\n",
      "{'_id': ObjectId('606269b307b07bf6b1008913'), 'ZipCode': '75035', 'NumberOfBeds': 4.0, 'NumberOfBaths': 2.0, 'SqFt': 2027.0, 'Price': 375000.0}\n",
      "{'_id': ObjectId('606269b307b07bf6b1008914'), 'ZipCode': '75033', 'NumberOfBeds': 3.0, 'NumberOfBaths': 2.0, 'SqFt': 2236.0, 'Price': 389900.0}\n",
      "{'_id': ObjectId('606269b307b07bf6b1008915'), 'ZipCode': '75034', 'NumberOfBeds': 2.0, 'NumberOfBaths': 2.5, 'SqFt': 1706.0, 'Price': 425000.0}\n",
      "{'_id': ObjectId('606269b307b07bf6b1008916'), 'ZipCode': '75035', 'NumberOfBeds': 4.0, 'NumberOfBaths': 2.5, 'SqFt': 3071.0, 'Price': 515000.0}\n",
      "{'_id': ObjectId('606269b307b07bf6b1008917'), 'ZipCode': '75035', 'NumberOfBeds': 3.0, 'NumberOfBaths': 2.0, 'SqFt': 1417.0, 'Price': 339999.0}\n",
      "{'_id': ObjectId('606269b307b07bf6b1008918'), 'ZipCode': '75035', 'NumberOfBeds': 3.0, 'NumberOfBaths': 2.0, 'SqFt': 2169.0, 'Price': 365000.0}\n",
      "{'_id': ObjectId('606269b307b07bf6b1008919'), 'ZipCode': '75036', 'NumberOfBeds': 4.0, 'NumberOfBaths': 2.5, 'SqFt': 2462.0, 'Price': 380000.0}\n",
      "{'_id': ObjectId('606269b307b07bf6b100891a'), 'ZipCode': '75034', 'NumberOfBeds': 5.0, 'NumberOfBaths': 4.0, 'SqFt': 4472.0, 'Price': 1199000.0}\n",
      "{'_id': ObjectId('606269b307b07bf6b100891b'), 'ZipCode': '75034', 'NumberOfBeds': 5.0, 'NumberOfBaths': 4.0, 'SqFt': 4002.0, 'Price': 1152990.0}\n",
      "{'_id': ObjectId('606269b307b07bf6b100891c'), 'ZipCode': '75024', 'NumberOfBeds': 4.0, 'NumberOfBaths': 4.5, 'SqFt': 5392.0, 'Price': 5100000.0}\n",
      "{'_id': ObjectId('606269b307b07bf6b100891d'), 'ZipCode': '75033', 'NumberOfBeds': 4.0, 'NumberOfBaths': 4.5, 'SqFt': 3412.0, 'Price': 625000.0}\n",
      "{'_id': ObjectId('606269b307b07bf6b100891e'), 'ZipCode': '75034', 'NumberOfBeds': 4.0, 'NumberOfBaths': 3.5, 'SqFt': 3027.0, 'Price': 530000.0}\n",
      "{'_id': ObjectId('606269b307b07bf6b100891f'), 'ZipCode': '75035', 'NumberOfBeds': 4.0, 'NumberOfBaths': 3.5, 'SqFt': 3102.0, 'Price': 505000.0}\n",
      "{'_id': ObjectId('606269b307b07bf6b1008920'), 'ZipCode': '75035', 'NumberOfBeds': 4.0, 'NumberOfBaths': 3.0, 'SqFt': 1963.0, 'Price': 454000.0}\n",
      "{'_id': ObjectId('606269b307b07bf6b1008921'), 'ZipCode': '75034', 'NumberOfBeds': 3.0, 'NumberOfBaths': 2.5, 'SqFt': 2227.0, 'Price': 420990.0}\n",
      "{'_id': ObjectId('606269b307b07bf6b1008922'), 'ZipCode': '75036', 'NumberOfBeds': 5.0, 'NumberOfBaths': 4.0, 'SqFt': 3372.0, 'Price': 640000.0}\n",
      "{'_id': ObjectId('606269b307b07bf6b1008923'), 'ZipCode': '75035', 'NumberOfBeds': 5.0, 'NumberOfBaths': 3.5, 'SqFt': 3251.0, 'Price': 495000.0}\n"
     ]
    }
   ],
   "source": [
    "# checking loaded records\n",
    "for record in db.current_listing_collection.find():\n",
    "    print(record)"
   ]
  },
  {
   "cell_type": "markdown",
   "metadata": {},
   "source": [
    "## Sold Properties"
   ]
  },
  {
   "cell_type": "markdown",
   "metadata": {},
   "source": [
    "### 1. Extracting Data using Web Scraping"
   ]
  },
  {
   "cell_type": "code",
   "execution_count": 19,
   "metadata": {},
   "outputs": [],
   "source": [
    "# Visit the following URL\n",
    "url = \"https://www.redfin.com/city/30844/TX/Frisco/filter/include=sold-6mo\"\n",
    "browser.visit(url)"
   ]
  },
  {
   "cell_type": "code",
   "execution_count": 20,
   "metadata": {},
   "outputs": [],
   "source": [
    "# Using BeautifulSoup to get html.parser\n",
    "html = browser.html\n",
    "soup = BeautifulSoup(html, 'html.parser')"
   ]
  },
  {
   "cell_type": "code",
   "execution_count": 21,
   "metadata": {},
   "outputs": [
    {
     "data": {
      "text/plain": [
       "[<span class=\"homecardV2Price\" data-rf-test-name=\"homecard-price\">$325,000</span>,\n",
       " <span class=\"homecardV2Price\" data-rf-test-name=\"homecard-price\">$400,000</span>,\n",
       " <span class=\"homecardV2Price\" data-rf-test-name=\"homecard-price\">$274,900</span>,\n",
       " <span class=\"homecardV2Price\" data-rf-test-name=\"homecard-price\">$489,900</span>,\n",
       " <span class=\"homecardV2Price\" data-rf-test-name=\"homecard-price\">$589,900</span>]"
      ]
     },
     "execution_count": 21,
     "metadata": {},
     "output_type": "execute_result"
    }
   ],
   "source": [
    "# Price of listed properties\n",
    "price_list = []\n",
    "price = soup.find_all('span', class_=\"homecardV2Price\")\n",
    "price[:5]"
   ]
  },
  {
   "cell_type": "code",
   "execution_count": 22,
   "metadata": {},
   "outputs": [
    {
     "data": {
      "text/plain": [
       "[<div class=\"stats\">4 Beds</div>,\n",
       " <div class=\"stats\">2 Baths</div>,\n",
       " <div class=\"stats\">2,018 Sq. Ft.</div>,\n",
       " <div class=\"stats\">4 Beds</div>,\n",
       " <div class=\"stats\">3 Baths</div>]"
      ]
     },
     "execution_count": 22,
     "metadata": {},
     "output_type": "execute_result"
    }
   ],
   "source": [
    "# Numebr of Beds, Baths and Sq. Ft. of listed properties\n",
    "stats = soup.find_all('div', class_=\"stats\")\n",
    "stats[:5]"
   ]
  },
  {
   "cell_type": "code",
   "execution_count": 23,
   "metadata": {},
   "outputs": [
    {
     "data": {
      "text/plain": [
       "[<div class=\"link-and-anchor\">11509 Parade Dr, Frisco, TX 75036</div>,\n",
       " <div class=\"link-and-anchor\">12759 Blue Ridge Dr, Frisco, TX 75033</div>,\n",
       " <div class=\"link-and-anchor\">13003 Michelle Dr, Frisco, TX 75035</div>,\n",
       " <div class=\"link-and-anchor\">1186 Shortgrass Ln, Frisco, TX 75033</div>,\n",
       " <div class=\"link-and-anchor\">8387 Pitkin Rd, Frisco, TX 75036</div>]"
      ]
     },
     "execution_count": 23,
     "metadata": {},
     "output_type": "execute_result"
    }
   ],
   "source": [
    "# Zipcode of listed properties\n",
    "zipcode = soup.find_all('div', class_=\"link-and-anchor\")\n",
    "zipcode[:5]"
   ]
  },
  {
   "cell_type": "markdown",
   "metadata": {},
   "source": [
    "### 2. Data Cleaning and Transformation to load into DB"
   ]
  },
  {
   "cell_type": "code",
   "execution_count": 24,
   "metadata": {},
   "outputs": [
    {
     "data": {
      "text/plain": [
       "[325000.0, 400000.0, 274900.0, 489900.0, 589900.0]"
      ]
     },
     "execution_count": 24,
     "metadata": {},
     "output_type": "execute_result"
    }
   ],
   "source": [
    "# Convering Price value into numeric - removing \"$\" and \",\"\n",
    "price_list = [float(p.text.replace(\"$\",\"\").replace(\",\",\"\").replace(\"+\",\"\").strip()) for p in price]\n",
    "price_list[:5]"
   ]
  },
  {
   "cell_type": "code",
   "execution_count": 25,
   "metadata": {},
   "outputs": [
    {
     "name": "stdout",
     "output_type": "stream",
     "text": [
      "Number of records in price list 41\n"
     ]
    }
   ],
   "source": [
    "print(\"Number of records in price list\", len(price_list))"
   ]
  },
  {
   "cell_type": "code",
   "execution_count": 26,
   "metadata": {},
   "outputs": [
    {
     "name": "stdout",
     "output_type": "stream",
     "text": [
      "Beds List: [4.0, 4.0, 3.0, 4.0, 4.0]\n",
      "Baths List: [2.0, 3.0, 2.0, 3.5, 4.0]\n",
      "Sq. Ft. List: [2018.0, 3196.0, 1660.0, 3576.0, 3886.0]\n"
     ]
    }
   ],
   "source": [
    "# Convering Number of Beds, Number of Baths and Area Sq. Ft. values into numeric - removing text: \"Beds\", \"Baths\", \"Sq. Ft.\"\n",
    "beds_list = []\n",
    "baths_list = []\n",
    "sq_ft_list = []\n",
    "\n",
    "for each in stats:\n",
    "    val = each.text.strip()\n",
    "    if 'Bed' in val:\n",
    "        beds_list.append(float(val.replace(\"Beds\",\"\").replace(\"Bed\",\"\").strip()))\n",
    "    elif 'Bath' in val:  \n",
    "        baths_list.append(float(val.replace(\"Baths\",\"\").replace(\"Bath\",\"\").strip()))\n",
    "    elif 'Sq. Ft.' in val:\n",
    "        sq_ft_list.append(float(val.replace(\"Sq. Ft.\",\"\").replace(\",\",\"\").strip()))\n",
    "\n",
    "print(\"Beds List:\", beds_list[:5])\n",
    "print(\"Baths List:\", baths_list[:5])\n",
    "print(\"Sq. Ft. List:\", sq_ft_list[:5])"
   ]
  },
  {
   "cell_type": "code",
   "execution_count": 27,
   "metadata": {},
   "outputs": [
    {
     "name": "stdout",
     "output_type": "stream",
     "text": [
      "Number of records in beds list 41\n",
      "Number of records in baths list 41\n",
      "Number of records in sq. ft. list 41\n"
     ]
    }
   ],
   "source": [
    "print(\"Number of records in beds list\", len(beds_list))\n",
    "print(\"Number of records in baths list\", len(baths_list))\n",
    "print(\"Number of records in sq. ft. list\", len(sq_ft_list))"
   ]
  },
  {
   "cell_type": "code",
   "execution_count": 28,
   "metadata": {},
   "outputs": [
    {
     "name": "stdout",
     "output_type": "stream",
     "text": [
      "Zipcode List: ['75036', '75033', '75035', '75033', '75036']\n"
     ]
    }
   ],
   "source": [
    "#Extracting zipcode from the complete address\n",
    "zipcode_list = []\n",
    "zipcode_list =  [z.text[-5:].strip() for z in zipcode]\n",
    "print(\"Zipcode List:\", zipcode_list[:5])"
   ]
  },
  {
   "cell_type": "code",
   "execution_count": 29,
   "metadata": {},
   "outputs": [
    {
     "name": "stdout",
     "output_type": "stream",
     "text": [
      "Number of records in zipcode list 41\n"
     ]
    }
   ],
   "source": [
    "print(\"Number of records in zipcode list\", len(zipcode_list))"
   ]
  },
  {
   "cell_type": "markdown",
   "metadata": {},
   "source": [
    "#### Creating a list of Dictionary with current listed real estate properties to load into MongoDB"
   ]
  },
  {
   "cell_type": "code",
   "execution_count": 30,
   "metadata": {},
   "outputs": [
    {
     "name": "stdout",
     "output_type": "stream",
     "text": [
      "Records to insert in DB:\n",
      "[{'ZipCode': '75036', 'NumberOfBeds': 4.0, 'NumberOfBaths': 2.0, 'SqFt': 2018.0, 'Price': 325000.0}, {'ZipCode': '75033', 'NumberOfBeds': 4.0, 'NumberOfBaths': 3.0, 'SqFt': 3196.0, 'Price': 400000.0}, {'ZipCode': '75035', 'NumberOfBeds': 3.0, 'NumberOfBaths': 2.0, 'SqFt': 1660.0, 'Price': 274900.0}, {'ZipCode': '75033', 'NumberOfBeds': 4.0, 'NumberOfBaths': 3.5, 'SqFt': 3576.0, 'Price': 489900.0}, {'ZipCode': '75036', 'NumberOfBeds': 4.0, 'NumberOfBaths': 4.0, 'SqFt': 3886.0, 'Price': 589900.0}]\n"
     ]
    }
   ],
   "source": [
    "sold_listing = []\n",
    "\n",
    "for i in range(len(zipcode_list)):\n",
    "    temp_dict = {\"ZipCode\":zipcode_list[i], \"NumberOfBeds\": beds_list[i], \"NumberOfBaths\": baths_list[i], \n",
    "           \"SqFt\": sq_ft_list[i], \"Price\":price_list[i]}\n",
    "    sold_listing.append(temp_dict)\n",
    "    \n",
    "print(\"Records to insert in DB:\")\n",
    "print(sold_listing[:5])"
   ]
  },
  {
   "cell_type": "code",
   "execution_count": 31,
   "metadata": {},
   "outputs": [],
   "source": [
    "browser.quit()"
   ]
  },
  {
   "cell_type": "markdown",
   "metadata": {},
   "source": [
    "### 3. Loading data into Mongo DB"
   ]
  },
  {
   "cell_type": "code",
   "execution_count": 32,
   "metadata": {},
   "outputs": [],
   "source": [
    "# collection 'sold_listing'\n",
    "sold_listing_collection = db.sold_listing_collection"
   ]
  },
  {
   "cell_type": "code",
   "execution_count": 33,
   "metadata": {},
   "outputs": [],
   "source": [
    "# Loading Data into collection table\n",
    "for i in sold_listing:\n",
    "    db.sold_listing_collection.insert_one(i)"
   ]
  },
  {
   "cell_type": "code",
   "execution_count": 34,
   "metadata": {},
   "outputs": [
    {
     "name": "stdout",
     "output_type": "stream",
     "text": [
      "{'_id': ObjectId('6062623af14bffb3486fd800'), 'ZipCode': '75036', 'NumberOfBeds': 3.0, 'NumberOfBaths': 2.5, 'SqFt': 2997.0, 'Price': 564900.0}\n",
      "{'_id': ObjectId('6062623af14bffb3486fd801'), 'ZipCode': '75034', 'NumberOfBeds': 3.0, 'NumberOfBaths': 3.5, 'SqFt': 4228.0, 'Price': 930000.0}\n",
      "{'_id': ObjectId('6062623af14bffb3486fd802'), 'ZipCode': '75036', 'NumberOfBeds': 2.0, 'NumberOfBaths': 2.0, 'SqFt': 1548.0, 'Price': 305000.0}\n",
      "{'_id': ObjectId('6062623af14bffb3486fd803'), 'ZipCode': '75033', 'NumberOfBeds': 5.0, 'NumberOfBaths': 3.5, 'SqFt': 3556.0, 'Price': 549900.0}\n",
      "{'_id': ObjectId('6062623af14bffb3486fd804'), 'ZipCode': '75036', 'NumberOfBeds': 3.0, 'NumberOfBaths': 2.0, 'SqFt': 1970.0, 'Price': 423550.0}\n",
      "{'_id': ObjectId('6062623af14bffb3486fd805'), 'ZipCode': '75035', 'NumberOfBeds': 4.0, 'NumberOfBaths': 3.0, 'SqFt': 3676.0, 'Price': 599900.0}\n",
      "{'_id': ObjectId('6062623af14bffb3486fd806'), 'ZipCode': '75036', 'NumberOfBeds': 5.0, 'NumberOfBaths': 3.5, 'SqFt': 3936.0, 'Price': 520000.0}\n",
      "{'_id': ObjectId('6062623af14bffb3486fd807'), 'ZipCode': '75033', 'NumberOfBeds': 5.0, 'NumberOfBaths': 4.5, 'SqFt': 4147.0, 'Price': 774900.0}\n",
      "{'_id': ObjectId('6062623af14bffb3486fd808'), 'ZipCode': '75033', 'NumberOfBeds': 3.0, 'NumberOfBaths': 3.5, 'SqFt': 3432.0, 'Price': 869900.0}\n",
      "{'_id': ObjectId('6062623af14bffb3486fd809'), 'ZipCode': '75033', 'NumberOfBeds': 3.0, 'NumberOfBaths': 2.0, 'SqFt': 1533.0, 'Price': 274900.0}\n",
      "{'_id': ObjectId('6062623af14bffb3486fd80a'), 'ZipCode': '75033', 'NumberOfBeds': 4.0, 'NumberOfBaths': 3.5, 'SqFt': 3600.0, 'Price': 479000.0}\n",
      "{'_id': ObjectId('6062623af14bffb3486fd80b'), 'ZipCode': '75035', 'NumberOfBeds': 4.0, 'NumberOfBaths': 3.5, 'SqFt': 3178.0, 'Price': 465000.0}\n",
      "{'_id': ObjectId('6062623af14bffb3486fd80c'), 'ZipCode': '75034', 'NumberOfBeds': 5.0, 'NumberOfBaths': 4.5, 'SqFt': 5855.0, 'Price': 1099000.0}\n",
      "{'_id': ObjectId('6062623af14bffb3486fd80d'), 'ZipCode': '75033', 'NumberOfBeds': 5.0, 'NumberOfBaths': 6.0, 'SqFt': 4854.0, 'Price': 1299000.0}\n",
      "{'_id': ObjectId('6062623af14bffb3486fd80e'), 'ZipCode': '75034', 'NumberOfBeds': 5.0, 'NumberOfBaths': 3.5, 'SqFt': 4165.0, 'Price': 889000.0}\n",
      "{'_id': ObjectId('6062623af14bffb3486fd80f'), 'ZipCode': '75033', 'NumberOfBeds': 4.0, 'NumberOfBaths': 3.5, 'SqFt': 2845.0, 'Price': 489900.0}\n",
      "{'_id': ObjectId('6062623af14bffb3486fd810'), 'ZipCode': '75033', 'NumberOfBeds': 4.0, 'NumberOfBaths': 2.5, 'SqFt': 2574.0, 'Price': 449900.0}\n",
      "{'_id': ObjectId('6062623af14bffb3486fd811'), 'ZipCode': '75035', 'NumberOfBeds': 4.0, 'NumberOfBaths': 2.0, 'SqFt': 2073.0, 'Price': 325000.0}\n",
      "{'_id': ObjectId('6062623af14bffb3486fd812'), 'ZipCode': '75034', 'NumberOfBeds': 2.0, 'NumberOfBaths': 2.5, 'SqFt': 1818.0, 'Price': 340000.0}\n",
      "{'_id': ObjectId('6062623af14bffb3486fd813'), 'ZipCode': '75033', 'NumberOfBeds': 4.0, 'NumberOfBaths': 2.0, 'SqFt': 2096.0, 'Price': 350000.0}\n",
      "{'_id': ObjectId('6062623af14bffb3486fd814'), 'ZipCode': '75035', 'NumberOfBeds': 3.0, 'NumberOfBaths': 2.5, 'SqFt': 1396.0, 'Price': 295000.0}\n",
      "{'_id': ObjectId('6062623af14bffb3486fd815'), 'ZipCode': '75034', 'NumberOfBeds': 3.0, 'NumberOfBaths': 2.5, 'SqFt': 2383.0, 'Price': 439900.0}\n",
      "{'_id': ObjectId('6062623af14bffb3486fd816'), 'ZipCode': '75035', 'NumberOfBeds': 4.0, 'NumberOfBaths': 3.5, 'SqFt': 2860.0, 'Price': 445900.0}\n",
      "{'_id': ObjectId('6062623af14bffb3486fd817'), 'ZipCode': '75034', 'NumberOfBeds': 4.0, 'NumberOfBaths': 4.0, 'SqFt': 4967.0, 'Price': 900000.0}\n",
      "{'_id': ObjectId('6062623af14bffb3486fd818'), 'ZipCode': '75035', 'NumberOfBeds': 4.0, 'NumberOfBaths': 2.0, 'SqFt': 2027.0, 'Price': 375000.0}\n",
      "{'_id': ObjectId('6062623af14bffb3486fd819'), 'ZipCode': '75033', 'NumberOfBeds': 3.0, 'NumberOfBaths': 2.0, 'SqFt': 2236.0, 'Price': 389900.0}\n",
      "{'_id': ObjectId('6062623af14bffb3486fd81a'), 'ZipCode': '75034', 'NumberOfBeds': 2.0, 'NumberOfBaths': 2.5, 'SqFt': 1706.0, 'Price': 425000.0}\n",
      "{'_id': ObjectId('6062623af14bffb3486fd81b'), 'ZipCode': '75035', 'NumberOfBeds': 4.0, 'NumberOfBaths': 2.5, 'SqFt': 3071.0, 'Price': 515000.0}\n",
      "{'_id': ObjectId('6062623af14bffb3486fd81c'), 'ZipCode': '75035', 'NumberOfBeds': 3.0, 'NumberOfBaths': 2.0, 'SqFt': 1417.0, 'Price': 339999.0}\n",
      "{'_id': ObjectId('6062623af14bffb3486fd81d'), 'ZipCode': '75035', 'NumberOfBeds': 3.0, 'NumberOfBaths': 2.0, 'SqFt': 2169.0, 'Price': 365000.0}\n",
      "{'_id': ObjectId('6062623af14bffb3486fd81e'), 'ZipCode': '75036', 'NumberOfBeds': 4.0, 'NumberOfBaths': 2.5, 'SqFt': 2462.0, 'Price': 380000.0}\n",
      "{'_id': ObjectId('6062623af14bffb3486fd81f'), 'ZipCode': '75034', 'NumberOfBeds': 5.0, 'NumberOfBaths': 4.0, 'SqFt': 4472.0, 'Price': 1199000.0}\n",
      "{'_id': ObjectId('6062623af14bffb3486fd820'), 'ZipCode': '75034', 'NumberOfBeds': 5.0, 'NumberOfBaths': 4.0, 'SqFt': 4002.0, 'Price': 1152990.0}\n",
      "{'_id': ObjectId('6062623af14bffb3486fd821'), 'ZipCode': '75024', 'NumberOfBeds': 4.0, 'NumberOfBaths': 4.5, 'SqFt': 5392.0, 'Price': 5100000.0}\n",
      "{'_id': ObjectId('6062623af14bffb3486fd822'), 'ZipCode': '75033', 'NumberOfBeds': 4.0, 'NumberOfBaths': 4.5, 'SqFt': 3412.0, 'Price': 625000.0}\n",
      "{'_id': ObjectId('6062623af14bffb3486fd823'), 'ZipCode': '75034', 'NumberOfBeds': 4.0, 'NumberOfBaths': 3.5, 'SqFt': 3027.0, 'Price': 530000.0}\n",
      "{'_id': ObjectId('6062623af14bffb3486fd824'), 'ZipCode': '75035', 'NumberOfBeds': 4.0, 'NumberOfBaths': 3.5, 'SqFt': 3102.0, 'Price': 505000.0}\n",
      "{'_id': ObjectId('6062623af14bffb3486fd825'), 'ZipCode': '75035', 'NumberOfBeds': 4.0, 'NumberOfBaths': 3.0, 'SqFt': 1963.0, 'Price': 454000.0}\n",
      "{'_id': ObjectId('6062623af14bffb3486fd826'), 'ZipCode': '75034', 'NumberOfBeds': 3.0, 'NumberOfBaths': 2.5, 'SqFt': 2227.0, 'Price': 420990.0}\n",
      "{'_id': ObjectId('6062623af14bffb3486fd827'), 'ZipCode': '75036', 'NumberOfBeds': 5.0, 'NumberOfBaths': 4.0, 'SqFt': 3372.0, 'Price': 640000.0}\n",
      "{'_id': ObjectId('6062623af14bffb3486fd828'), 'ZipCode': '75035', 'NumberOfBeds': 5.0, 'NumberOfBaths': 3.5, 'SqFt': 3251.0, 'Price': 495000.0}\n",
      "{'_id': ObjectId('606269b307b07bf6b10088fb'), 'ZipCode': '75036', 'NumberOfBeds': 3.0, 'NumberOfBaths': 2.5, 'SqFt': 2997.0, 'Price': 564900.0}\n",
      "{'_id': ObjectId('606269b307b07bf6b10088fc'), 'ZipCode': '75034', 'NumberOfBeds': 3.0, 'NumberOfBaths': 3.5, 'SqFt': 4228.0, 'Price': 930000.0}\n",
      "{'_id': ObjectId('606269b307b07bf6b10088fd'), 'ZipCode': '75036', 'NumberOfBeds': 2.0, 'NumberOfBaths': 2.0, 'SqFt': 1548.0, 'Price': 305000.0}\n",
      "{'_id': ObjectId('606269b307b07bf6b10088fe'), 'ZipCode': '75033', 'NumberOfBeds': 5.0, 'NumberOfBaths': 3.5, 'SqFt': 3556.0, 'Price': 549900.0}\n",
      "{'_id': ObjectId('606269b307b07bf6b10088ff'), 'ZipCode': '75036', 'NumberOfBeds': 3.0, 'NumberOfBaths': 2.0, 'SqFt': 1970.0, 'Price': 423550.0}\n",
      "{'_id': ObjectId('606269b307b07bf6b1008900'), 'ZipCode': '75035', 'NumberOfBeds': 4.0, 'NumberOfBaths': 3.0, 'SqFt': 3676.0, 'Price': 599900.0}\n",
      "{'_id': ObjectId('606269b307b07bf6b1008901'), 'ZipCode': '75036', 'NumberOfBeds': 5.0, 'NumberOfBaths': 3.5, 'SqFt': 3936.0, 'Price': 520000.0}\n",
      "{'_id': ObjectId('606269b307b07bf6b1008902'), 'ZipCode': '75033', 'NumberOfBeds': 5.0, 'NumberOfBaths': 4.5, 'SqFt': 4147.0, 'Price': 774900.0}\n",
      "{'_id': ObjectId('606269b307b07bf6b1008903'), 'ZipCode': '75033', 'NumberOfBeds': 3.0, 'NumberOfBaths': 3.5, 'SqFt': 3432.0, 'Price': 869900.0}\n",
      "{'_id': ObjectId('606269b307b07bf6b1008904'), 'ZipCode': '75033', 'NumberOfBeds': 3.0, 'NumberOfBaths': 2.0, 'SqFt': 1533.0, 'Price': 274900.0}\n",
      "{'_id': ObjectId('606269b307b07bf6b1008905'), 'ZipCode': '75033', 'NumberOfBeds': 4.0, 'NumberOfBaths': 3.5, 'SqFt': 3600.0, 'Price': 479000.0}\n",
      "{'_id': ObjectId('606269b307b07bf6b1008906'), 'ZipCode': '75035', 'NumberOfBeds': 4.0, 'NumberOfBaths': 3.5, 'SqFt': 3178.0, 'Price': 465000.0}\n",
      "{'_id': ObjectId('606269b307b07bf6b1008907'), 'ZipCode': '75034', 'NumberOfBeds': 5.0, 'NumberOfBaths': 4.5, 'SqFt': 5855.0, 'Price': 1099000.0}\n",
      "{'_id': ObjectId('606269b307b07bf6b1008908'), 'ZipCode': '75033', 'NumberOfBeds': 5.0, 'NumberOfBaths': 6.0, 'SqFt': 4854.0, 'Price': 1299000.0}\n",
      "{'_id': ObjectId('606269b307b07bf6b1008909'), 'ZipCode': '75034', 'NumberOfBeds': 5.0, 'NumberOfBaths': 3.5, 'SqFt': 4165.0, 'Price': 889000.0}\n",
      "{'_id': ObjectId('606269b307b07bf6b100890a'), 'ZipCode': '75033', 'NumberOfBeds': 4.0, 'NumberOfBaths': 3.5, 'SqFt': 2845.0, 'Price': 489900.0}\n",
      "{'_id': ObjectId('606269b307b07bf6b100890b'), 'ZipCode': '75033', 'NumberOfBeds': 4.0, 'NumberOfBaths': 2.5, 'SqFt': 2574.0, 'Price': 449900.0}\n",
      "{'_id': ObjectId('606269b307b07bf6b100890c'), 'ZipCode': '75035', 'NumberOfBeds': 4.0, 'NumberOfBaths': 2.0, 'SqFt': 2073.0, 'Price': 325000.0}\n",
      "{'_id': ObjectId('606269b307b07bf6b100890d'), 'ZipCode': '75034', 'NumberOfBeds': 2.0, 'NumberOfBaths': 2.5, 'SqFt': 1818.0, 'Price': 340000.0}\n",
      "{'_id': ObjectId('606269b307b07bf6b100890e'), 'ZipCode': '75033', 'NumberOfBeds': 4.0, 'NumberOfBaths': 2.0, 'SqFt': 2096.0, 'Price': 350000.0}\n",
      "{'_id': ObjectId('606269b307b07bf6b100890f'), 'ZipCode': '75035', 'NumberOfBeds': 3.0, 'NumberOfBaths': 2.5, 'SqFt': 1396.0, 'Price': 295000.0}\n",
      "{'_id': ObjectId('606269b307b07bf6b1008910'), 'ZipCode': '75034', 'NumberOfBeds': 3.0, 'NumberOfBaths': 2.5, 'SqFt': 2383.0, 'Price': 439900.0}\n",
      "{'_id': ObjectId('606269b307b07bf6b1008911'), 'ZipCode': '75035', 'NumberOfBeds': 4.0, 'NumberOfBaths': 3.5, 'SqFt': 2860.0, 'Price': 445900.0}\n",
      "{'_id': ObjectId('606269b307b07bf6b1008912'), 'ZipCode': '75034', 'NumberOfBeds': 4.0, 'NumberOfBaths': 4.0, 'SqFt': 4967.0, 'Price': 900000.0}\n",
      "{'_id': ObjectId('606269b307b07bf6b1008913'), 'ZipCode': '75035', 'NumberOfBeds': 4.0, 'NumberOfBaths': 2.0, 'SqFt': 2027.0, 'Price': 375000.0}\n",
      "{'_id': ObjectId('606269b307b07bf6b1008914'), 'ZipCode': '75033', 'NumberOfBeds': 3.0, 'NumberOfBaths': 2.0, 'SqFt': 2236.0, 'Price': 389900.0}\n",
      "{'_id': ObjectId('606269b307b07bf6b1008915'), 'ZipCode': '75034', 'NumberOfBeds': 2.0, 'NumberOfBaths': 2.5, 'SqFt': 1706.0, 'Price': 425000.0}\n",
      "{'_id': ObjectId('606269b307b07bf6b1008916'), 'ZipCode': '75035', 'NumberOfBeds': 4.0, 'NumberOfBaths': 2.5, 'SqFt': 3071.0, 'Price': 515000.0}\n",
      "{'_id': ObjectId('606269b307b07bf6b1008917'), 'ZipCode': '75035', 'NumberOfBeds': 3.0, 'NumberOfBaths': 2.0, 'SqFt': 1417.0, 'Price': 339999.0}\n",
      "{'_id': ObjectId('606269b307b07bf6b1008918'), 'ZipCode': '75035', 'NumberOfBeds': 3.0, 'NumberOfBaths': 2.0, 'SqFt': 2169.0, 'Price': 365000.0}\n",
      "{'_id': ObjectId('606269b307b07bf6b1008919'), 'ZipCode': '75036', 'NumberOfBeds': 4.0, 'NumberOfBaths': 2.5, 'SqFt': 2462.0, 'Price': 380000.0}\n",
      "{'_id': ObjectId('606269b307b07bf6b100891a'), 'ZipCode': '75034', 'NumberOfBeds': 5.0, 'NumberOfBaths': 4.0, 'SqFt': 4472.0, 'Price': 1199000.0}\n",
      "{'_id': ObjectId('606269b307b07bf6b100891b'), 'ZipCode': '75034', 'NumberOfBeds': 5.0, 'NumberOfBaths': 4.0, 'SqFt': 4002.0, 'Price': 1152990.0}\n",
      "{'_id': ObjectId('606269b307b07bf6b100891c'), 'ZipCode': '75024', 'NumberOfBeds': 4.0, 'NumberOfBaths': 4.5, 'SqFt': 5392.0, 'Price': 5100000.0}\n",
      "{'_id': ObjectId('606269b307b07bf6b100891d'), 'ZipCode': '75033', 'NumberOfBeds': 4.0, 'NumberOfBaths': 4.5, 'SqFt': 3412.0, 'Price': 625000.0}\n",
      "{'_id': ObjectId('606269b307b07bf6b100891e'), 'ZipCode': '75034', 'NumberOfBeds': 4.0, 'NumberOfBaths': 3.5, 'SqFt': 3027.0, 'Price': 530000.0}\n",
      "{'_id': ObjectId('606269b307b07bf6b100891f'), 'ZipCode': '75035', 'NumberOfBeds': 4.0, 'NumberOfBaths': 3.5, 'SqFt': 3102.0, 'Price': 505000.0}\n",
      "{'_id': ObjectId('606269b307b07bf6b1008920'), 'ZipCode': '75035', 'NumberOfBeds': 4.0, 'NumberOfBaths': 3.0, 'SqFt': 1963.0, 'Price': 454000.0}\n",
      "{'_id': ObjectId('606269b307b07bf6b1008921'), 'ZipCode': '75034', 'NumberOfBeds': 3.0, 'NumberOfBaths': 2.5, 'SqFt': 2227.0, 'Price': 420990.0}\n",
      "{'_id': ObjectId('606269b307b07bf6b1008922'), 'ZipCode': '75036', 'NumberOfBeds': 5.0, 'NumberOfBaths': 4.0, 'SqFt': 3372.0, 'Price': 640000.0}\n",
      "{'_id': ObjectId('606269b307b07bf6b1008923'), 'ZipCode': '75035', 'NumberOfBeds': 5.0, 'NumberOfBaths': 3.5, 'SqFt': 3251.0, 'Price': 495000.0}\n"
     ]
    }
   ],
   "source": [
    "# checking loaded records\n",
    "for record in db.current_listing_collection.find():\n",
    "    print(record)"
   ]
  },
  {
   "cell_type": "code",
   "execution_count": null,
   "metadata": {},
   "outputs": [],
   "source": []
  }
 ],
 "metadata": {
  "kernelspec": {
   "display_name": "Python 3",
   "language": "python",
   "name": "python3"
  },
  "language_info": {
   "codemirror_mode": {
    "name": "ipython",
    "version": 3
   },
   "file_extension": ".py",
   "mimetype": "text/x-python",
   "name": "python",
   "nbconvert_exporter": "python",
   "pygments_lexer": "ipython3",
   "version": "3.8.5"
  }
 },
 "nbformat": 4,
 "nbformat_minor": 4
}
