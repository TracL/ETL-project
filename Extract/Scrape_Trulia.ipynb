{
 "cells": [
  {
   "cell_type": "code",
   "execution_count": 1,
   "metadata": {},
   "outputs": [],
   "source": [
    "from bs4 import BeautifulSoup\n",
    "from webdriver_manager.chrome import ChromeDriverManager\n",
    "from splinter import Browser\n",
    "import pandas as pd"
   ]
  },
  {
   "cell_type": "code",
   "execution_count": 2,
   "metadata": {},
   "outputs": [
    {
     "name": "stderr",
     "output_type": "stream",
     "text": [
      "[WDM] - ====== WebDriver manager ======\n",
      "[WDM] - Current google-chrome version is 89.0.4389\n",
      "[WDM] - Get LATEST driver version for 89.0.4389\n",
      "[WDM] - Driver [C:\\Users\\freak\\.wdm\\drivers\\chromedriver\\win32\\89.0.4389.23\\chromedriver.exe] found in cache\n"
     ]
    },
    {
     "name": "stdout",
     "output_type": "stream",
     "text": [
      "\n",
      "\n"
     ]
    }
   ],
   "source": [
    "executable_path = {\"executable_path\": ChromeDriverManager().install()}\n",
    "browser = Browser(\"chrome\", **executable_path, headless=False)"
   ]
  },
  {
   "cell_type": "code",
   "execution_count": 3,
   "metadata": {},
   "outputs": [],
   "source": [
    "url = \"https://www.trulia.com/TX/\""
   ]
  },
  {
   "cell_type": "code",
   "execution_count": 4,
   "metadata": {},
   "outputs": [],
   "source": [
    "cities = [\n",
    "    'Dallas', \n",
    "    'Frisco', \n",
    "    'Plano', \n",
    "    'Fort_Worth',\n",
    "    'Garland',\n",
    "    'Irving',\n",
    "    'Arlington', \n",
    "    'Carrollton'\n",
    "]\n",
    "price_list = []\n",
    "bed_list = []\n",
    "bath_list = []\n",
    "sqft_list = []\n",
    "address_list = []\n",
    "city_list = []"
   ]
  },
  {
   "cell_type": "code",
   "execution_count": null,
   "metadata": {},
   "outputs": [],
   "source": [
    "# Retrieve data: Price, # of beds, # of baths, sqft, address, area of Dallas\n",
    "for c in cities:\n",
    "    browser.visit(url + c + '/')\n",
    "\n",
    "    html = browser.html\n",
    "    soup = BeautifulSoup(html, 'html.parser')\n",
    "\n",
    "    price = soup.find_all('div', class_=\"Text__TextBase-sc-1cait9d-0-div Text__TextContainerBase-sc-1cait9d-1 keMYfJ\")\n",
    "    for p in price:\n",
    "        price_list.append(p.text)\n",
    "\n",
    "    bed_bath = soup.find_all('div', class_=\"MediaBlock__MediaContent-skmvlj-1 jNJnVO\")\n",
    "    for b in bed_bath:\n",
    "    # bed_list = [b.text for b in bed_bath]\n",
    "        if b.text[-1] == 'd':\n",
    "            bed_list.append(b.text)\n",
    "        elif b.text[-1] == 'a':\n",
    "            bath_list.append(b.text)\n",
    "\n",
    "    loc = soup.find_all('div', class_=\"Text__TextBase-sc-1cait9d-0-div Text__TextContainerBase-sc-1cait9d-1 dZyoXR\")\n",
    "\n",
    "    for s in loc:\n",
    "        if s.text[-4:] == 'sqft':\n",
    "            sqft_list.append(s.text)\n",
    "        elif s.text[-4:] == ', TX':\n",
    "            city_list.append(s.text)\n",
    "        else:\n",
    "            address_list.append(s.text)\n",
    "            \n",
    "print(len(price_list))\n",
    "print(len(bed_list))\n",
    "print(len(bath_list))\n",
    "print(len(sqft_list))\n",
    "print(len(address_list))\n",
    "print(len(city_list))"
   ]
  },
  {
   "cell_type": "code",
   "execution_count": null,
   "metadata": {},
   "outputs": [],
   "source": [
    "# for i in range(30):\n",
    "# url = \"https://www.trulia.com/TX/Dallas/\"\n",
    "# browser.visit(url)\n",
    "# xpath = '//h3'\n",
    "# results = browser.find_by_xpath(xpath)\n",
    "# img = results[1]\n",
    "# img.click()    "
   ]
  },
  {
   "cell_type": "code",
   "execution_count": null,
   "metadata": {},
   "outputs": [],
   "source": [
    "df = pd.DataFrame({\"Price\": price_list, \n",
    "                   \"# of Beds\": bed_list, \n",
    "                   \"# of Baths\": bath_list, \n",
    "                  \"sqft\": sqft_list, \n",
    "                   \"Address\": address_list, \n",
    "                   \"City\": city_list})\n",
    "df"
   ]
  },
  {
   "cell_type": "code",
   "execution_count": null,
   "metadata": {},
   "outputs": [],
   "source": [
    "browser.quit()"
   ]
  },
  {
   "cell_type": "code",
   "execution_count": null,
   "metadata": {},
   "outputs": [],
   "source": [
    "df.to_csv(\"../CSVs/Trulia_Scrape.csv\")"
   ]
  }
 ],
 "metadata": {
  "kernelspec": {
   "display_name": "Python 3",
   "language": "python",
   "name": "python3"
  },
  "language_info": {
   "codemirror_mode": {
    "name": "ipython",
    "version": 3
   },
   "file_extension": ".py",
   "mimetype": "text/x-python",
   "name": "python",
   "nbconvert_exporter": "python",
   "pygments_lexer": "ipython3",
   "version": "3.8.5"
  }
 },
 "nbformat": 4,
 "nbformat_minor": 4
}
