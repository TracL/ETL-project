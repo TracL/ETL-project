{
 "cells": [
  {
   "cell_type": "code",
   "execution_count": 47,
   "metadata": {},
   "outputs": [],
   "source": [
    "from bs4 import BeautifulSoup\n",
    "from webdriver_manager.chrome import ChromeDriverManager\n",
    "from splinter import Browser\n",
    "import pandas as pd"
   ]
  },
  {
   "cell_type": "code",
   "execution_count": 48,
   "metadata": {},
   "outputs": [
    {
     "name": "stderr",
     "output_type": "stream",
     "text": [
      "[WDM] - ====== WebDriver manager ======\n",
      "[WDM] - Current google-chrome version is 89.0.4389\n",
      "[WDM] - Get LATEST driver version for 89.0.4389\n",
      "[WDM] - Driver [C:\\Users\\freak\\.wdm\\drivers\\chromedriver\\win32\\89.0.4389.23\\chromedriver.exe] found in cache\n"
     ]
    },
    {
     "name": "stdout",
     "output_type": "stream",
     "text": [
      "\n",
      "\n"
     ]
    }
   ],
   "source": [
    "executable_path = {\"executable_path\": ChromeDriverManager().install()}\n",
    "browser = Browser(\"chrome\", **executable_path, headless=False)"
   ]
  },
  {
   "cell_type": "code",
   "execution_count": 49,
   "metadata": {},
   "outputs": [],
   "source": [
    "url = \"https://homefinder.com/for-sale/TX/\""
   ]
  },
  {
   "cell_type": "code",
   "execution_count": 51,
   "metadata": {},
   "outputs": [
    {
     "name": "stdout",
     "output_type": "stream",
     "text": [
      "range(1, 7)\n",
      "range(8, 21)\n"
     ]
    }
   ],
   "source": [
    "for r in range(1,7), range(8,21):\n",
    "    print(r)"
   ]
  },
  {
   "cell_type": "code",
   "execution_count": 37,
   "metadata": {},
   "outputs": [],
   "source": [
    "cities = [\n",
    "    'Dallas', \n",
    "    'Frisco', \n",
    "    'Plano', \n",
    "    'Fort-Worth',\n",
    "    'Garland',\n",
    "    'Irving',\n",
    "    'Arlington', \n",
    "    'Carrollton',\n",
    "    'Addison',\n",
    "    'Cedar-Hill'\n",
    "]\n",
    "\n",
    "price_list = []\n",
    "bed_list = []\n",
    "bath_list = []\n",
    "address_list = []\n",
    "city_list = []\n",
    "zip_list = []"
   ]
  },
  {
   "cell_type": "code",
   "execution_count": 50,
   "metadata": {},
   "outputs": [
    {
     "name": "stdout",
     "output_type": "stream",
     "text": [
      "3190\n",
      "3190\n",
      "3190\n",
      "3190\n",
      "3190\n",
      "3190\n"
     ]
    }
   ],
   "source": [
    "cities = []\n",
    "\n",
    "for i in cities:\n",
    "    for r in range(1,21):\n",
    "        browser.visit(url + i + '?page=' + str(r))\n",
    "\n",
    "        html = browser.html\n",
    "        soup = BeautifulSoup(html, 'html.parser')\n",
    "\n",
    "        price = soup.find_all('p', class_=\"h4 text-primary mb-0\")\n",
    "        for p in price:\n",
    "            p1 = p.text[11:-20]\n",
    "            p2 = p1[:p1.find('\\n')]\n",
    "            price_list.append(p2)\n",
    "\n",
    "        bed_bath = soup.find_all('div', class_=\"text-muted\")\n",
    "        for b in bed_bath:\n",
    "            if b.text[7:9] == 'Bd':\n",
    "                bed_list.append(b.text[5:b.text.find(' | ')])\n",
    "                bath_list.append(b.text[b.text.find(' | ') + 3:-5])\n",
    "\n",
    "        address = soup.find_all('p', class_=\"addr-component h5 mb-0\")\n",
    "        for a in address:\n",
    "            address_list.append(a.text[9:-8])\n",
    "\n",
    "\n",
    "        city = soup.find_all('div', class_=\"addr-component\")\n",
    "        for c in city:\n",
    "            city_list.append(c.text[9:-13])\n",
    "\n",
    "\n",
    "        zip = soup.find_all('div', class_=\"addr-component\")\n",
    "        for z in zip:\n",
    "            zip_list.append(z.text[-12:-7])\n",
    "\n",
    "print(len(price_list))\n",
    "print(len(bed_list))\n",
    "print(len(bath_list))\n",
    "print(len(address_list))\n",
    "print(len(city_list))\n",
    "print(len(zip_list))"
   ]
  },
  {
   "cell_type": "code",
   "execution_count": 42,
   "metadata": {},
   "outputs": [
    {
     "data": {
      "text/html": [
       "<div>\n",
       "<style scoped>\n",
       "    .dataframe tbody tr th:only-of-type {\n",
       "        vertical-align: middle;\n",
       "    }\n",
       "\n",
       "    .dataframe tbody tr th {\n",
       "        vertical-align: top;\n",
       "    }\n",
       "\n",
       "    .dataframe thead th {\n",
       "        text-align: right;\n",
       "    }\n",
       "</style>\n",
       "<table border=\"1\" class=\"dataframe\">\n",
       "  <thead>\n",
       "    <tr style=\"text-align: right;\">\n",
       "      <th></th>\n",
       "      <th>Price</th>\n",
       "      <th># of Beds</th>\n",
       "      <th># of Baths</th>\n",
       "      <th>Address</th>\n",
       "      <th>City</th>\n",
       "      <th>Zip Code</th>\n",
       "    </tr>\n",
       "  </thead>\n",
       "  <tbody>\n",
       "    <tr>\n",
       "      <th>0</th>\n",
       "      <td>$966</td>\n",
       "      <td>3 Bd</td>\n",
       "      <td>2 bath\\n    | 1,423</td>\n",
       "      <td>Frank</td>\n",
       "      <td>Dallas, TX</td>\n",
       "      <td>75210</td>\n",
       "    </tr>\n",
       "    <tr>\n",
       "      <th>1</th>\n",
       "      <td>$317,900</td>\n",
       "      <td>3 Bd</td>\n",
       "      <td>2 bath\\n    | 1,428</td>\n",
       "      <td>7947 Claremont DR</td>\n",
       "      <td>Dallas, TX</td>\n",
       "      <td>75228</td>\n",
       "    </tr>\n",
       "    <tr>\n",
       "      <th>2</th>\n",
       "      <td>$50,000</td>\n",
       "      <td>1 Bd</td>\n",
       "      <td>1 bath</td>\n",
       "      <td>9833 Walnut Street</td>\n",
       "      <td>Dallas, TX</td>\n",
       "      <td>75243</td>\n",
       "    </tr>\n",
       "    <tr>\n",
       "      <th>3</th>\n",
       "      <td>$50,000</td>\n",
       "      <td>1 Bd</td>\n",
       "      <td>1 bath</td>\n",
       "      <td>9825 Walnut Street</td>\n",
       "      <td>Dallas, TX</td>\n",
       "      <td>75243</td>\n",
       "    </tr>\n",
       "    <tr>\n",
       "      <th>4</th>\n",
       "      <td>$50,000</td>\n",
       "      <td>1 Bd</td>\n",
       "      <td>1 bath</td>\n",
       "      <td>9809 Walnut Street</td>\n",
       "      <td>Dallas, TX</td>\n",
       "      <td>75243</td>\n",
       "    </tr>\n",
       "    <tr>\n",
       "      <th>...</th>\n",
       "      <td>...</td>\n",
       "      <td>...</td>\n",
       "      <td>...</td>\n",
       "      <td>...</td>\n",
       "      <td>...</td>\n",
       "      <td>...</td>\n",
       "    </tr>\n",
       "    <tr>\n",
       "      <th>3119</th>\n",
       "      <td>$135,900</td>\n",
       "      <td>3 Bd</td>\n",
       "      <td>2 bath</td>\n",
       "      <td>1719 Westview Terrace</td>\n",
       "      <td>Arlington, TX</td>\n",
       "      <td>76013</td>\n",
       "    </tr>\n",
       "    <tr>\n",
       "      <th>3120</th>\n",
       "      <td>$365,000</td>\n",
       "      <td>3 Bd</td>\n",
       "      <td>2 bath</td>\n",
       "      <td>1405 Mount Evans Trail</td>\n",
       "      <td>Arlington, TX</td>\n",
       "      <td>76005</td>\n",
       "    </tr>\n",
       "    <tr>\n",
       "      <th>3121</th>\n",
       "      <td>$265,000</td>\n",
       "      <td>4 Bd</td>\n",
       "      <td>2 bath</td>\n",
       "      <td>809 Mckenzie Place</td>\n",
       "      <td>Arlington, TX</td>\n",
       "      <td>76018</td>\n",
       "    </tr>\n",
       "    <tr>\n",
       "      <th>3122</th>\n",
       "      <td>$159,000</td>\n",
       "      <td>0 Bd</td>\n",
       "      <td>0 bath</td>\n",
       "      <td>708 Houston Street</td>\n",
       "      <td>Arlington, TX</td>\n",
       "      <td>76012</td>\n",
       "    </tr>\n",
       "    <tr>\n",
       "      <th>3123</th>\n",
       "      <td>$250,000</td>\n",
       "      <td>4 Bd</td>\n",
       "      <td>2 bath</td>\n",
       "      <td>5115 Eagle Nest Drive</td>\n",
       "      <td>Arlington, TX</td>\n",
       "      <td>76017</td>\n",
       "    </tr>\n",
       "  </tbody>\n",
       "</table>\n",
       "<p>3124 rows × 6 columns</p>\n",
       "</div>"
      ],
      "text/plain": [
       "         Price # of Beds           # of Baths                 Address  \\\n",
       "0         $966      3 Bd  2 bath\\n    | 1,423                   Frank   \n",
       "1     $317,900      3 Bd  2 bath\\n    | 1,428       7947 Claremont DR   \n",
       "2      $50,000      1 Bd               1 bath      9833 Walnut Street   \n",
       "3      $50,000      1 Bd               1 bath      9825 Walnut Street   \n",
       "4      $50,000      1 Bd               1 bath      9809 Walnut Street   \n",
       "...        ...       ...                  ...                     ...   \n",
       "3119  $135,900      3 Bd               2 bath   1719 Westview Terrace   \n",
       "3120  $365,000      3 Bd               2 bath  1405 Mount Evans Trail   \n",
       "3121  $265,000      4 Bd               2 bath      809 Mckenzie Place   \n",
       "3122  $159,000      0 Bd               0 bath      708 Houston Street   \n",
       "3123  $250,000      4 Bd               2 bath   5115 Eagle Nest Drive   \n",
       "\n",
       "               City Zip Code  \n",
       "0        Dallas, TX    75210  \n",
       "1        Dallas, TX    75228  \n",
       "2        Dallas, TX    75243  \n",
       "3        Dallas, TX    75243  \n",
       "4        Dallas, TX    75243  \n",
       "...             ...      ...  \n",
       "3119  Arlington, TX    76013  \n",
       "3120  Arlington, TX    76005  \n",
       "3121  Arlington, TX    76018  \n",
       "3122  Arlington, TX    76012  \n",
       "3123  Arlington, TX    76017  \n",
       "\n",
       "[3124 rows x 6 columns]"
      ]
     },
     "execution_count": 42,
     "metadata": {},
     "output_type": "execute_result"
    }
   ],
   "source": [
    "df = pd.DataFrame({\"Price\": price_list, \n",
    "                   \"# of Beds\": bed_list, \n",
    "                   \"# of Baths\": bath_list, \n",
    "                   \"Address\": address_list, \n",
    "                   \"City\": city_list,\n",
    "                   \"Zip Code\": zip_list})\n",
    "df"
   ]
  },
  {
   "cell_type": "code",
   "execution_count": 43,
   "metadata": {},
   "outputs": [],
   "source": []
  },
  {
   "cell_type": "code",
   "execution_count": 52,
   "metadata": {},
   "outputs": [],
   "source": [
    "browser.quit()"
   ]
  },
  {
   "cell_type": "code",
   "execution_count": 45,
   "metadata": {},
   "outputs": [],
   "source": [
    "df.to_csv(\"HomeFinder_Scrape.csv\")"
   ]
  },
  {
   "cell_type": "code",
   "execution_count": null,
   "metadata": {},
   "outputs": [],
   "source": []
  }
 ],
 "metadata": {
  "kernelspec": {
   "display_name": "Python 3",
   "language": "python",
   "name": "python3"
  },
  "language_info": {
   "codemirror_mode": {
    "name": "ipython",
    "version": 3
   },
   "file_extension": ".py",
   "mimetype": "text/x-python",
   "name": "python",
   "nbconvert_exporter": "python",
   "pygments_lexer": "ipython3",
   "version": "3.8.5"
  }
 },
 "nbformat": 4,
 "nbformat_minor": 4
}
