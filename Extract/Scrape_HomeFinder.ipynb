{
 "cells": [
  {
   "cell_type": "code",
   "execution_count": 1,
   "metadata": {},
   "outputs": [],
   "source": [
    "from bs4 import BeautifulSoup\n",
    "from webdriver_manager.chrome import ChromeDriverManager\n",
    "from splinter import Browser\n",
    "import pandas as pd"
   ]
  },
  {
   "cell_type": "code",
   "execution_count": 2,
   "metadata": {},
   "outputs": [
    {
     "name": "stderr",
     "output_type": "stream",
     "text": [
      "[WDM] - ====== WebDriver manager ======\n",
      "[WDM] - Current google-chrome version is 89.0.4389\n",
      "[WDM] - Get LATEST driver version for 89.0.4389\n"
     ]
    },
    {
     "name": "stdout",
     "output_type": "stream",
     "text": [
      "\n",
      "\n"
     ]
    },
    {
     "name": "stderr",
     "output_type": "stream",
     "text": [
      "[WDM] - Driver [C:\\Users\\freak\\.wdm\\drivers\\chromedriver\\win32\\89.0.4389.23\\chromedriver.exe] found in cache\n"
     ]
    }
   ],
   "source": [
    "executable_path = {\"executable_path\": ChromeDriverManager().install()}\n",
    "browser = Browser(\"chrome\", **executable_path, headless=False)"
   ]
  },
  {
   "cell_type": "code",
   "execution_count": 3,
   "metadata": {},
   "outputs": [],
   "source": [
    "url = \"https://homefinder.com/for-sale/TX/\""
   ]
  },
  {
   "cell_type": "code",
   "execution_count": 4,
   "metadata": {},
   "outputs": [
    {
     "name": "stdout",
     "output_type": "stream",
     "text": [
      "range(1, 7)\n",
      "range(8, 21)\n"
     ]
    }
   ],
   "source": [
    "for r in range(1,7), range(8,21):\n",
    "    print(r)"
   ]
  },
  {
   "cell_type": "code",
   "execution_count": 5,
   "metadata": {},
   "outputs": [],
   "source": [
    "cities = [\n",
    "    'Dallas', \n",
    "    'Frisco', \n",
    "    'Plano', \n",
    "    'Fort-Worth',\n",
    "    'Garland',\n",
    "    'Irving',\n",
    "#     'Arlington', \n",
    "    'Carrollton',\n",
    "    'Addison',\n",
    "    'Cedar-Hill'\n",
    "]\n",
    "\n",
    "price_list = []\n",
    "bed_list = []\n",
    "bath_list = []\n",
    "address_list = []\n",
    "city_list = []\n",
    "zip_list = []"
   ]
  },
  {
   "cell_type": "code",
   "execution_count": 6,
   "metadata": {},
   "outputs": [
    {
     "name": "stdout",
     "output_type": "stream",
     "text": [
      "2706\n",
      "2706\n",
      "2706\n",
      "2706\n",
      "2706\n",
      "2706\n"
     ]
    }
   ],
   "source": [
    "for i in cities:\n",
    "    for r in range(1,21):\n",
    "        browser.visit(url + i + '?page=' + str(r))\n",
    "\n",
    "        html = browser.html\n",
    "        soup = BeautifulSoup(html, 'html.parser')\n",
    "\n",
    "        price = soup.find_all('p', class_=\"h4 text-primary mb-0\")\n",
    "        for p in price:\n",
    "            p1 = p.text[11:-20]\n",
    "            p2 = p1[:p1.find('\\n')]\n",
    "            price_list.append(p2)\n",
    "\n",
    "        bed_bath = soup.find_all('div', class_=\"text-muted\")\n",
    "        for b in bed_bath:\n",
    "            if b.text[7:9] == 'Bd':\n",
    "                bed_list.append(b.text[5:b.text.find(' | ')])\n",
    "                bath_list.append(b.text[b.text.find(' | ') + 3:-5])\n",
    "\n",
    "        address = soup.find_all('p', class_=\"addr-component h5 mb-0\")\n",
    "        for a in address:\n",
    "            address_list.append(a.text[9:-8])\n",
    "\n",
    "\n",
    "        city = soup.find_all('div', class_=\"addr-component\")\n",
    "        for c in city:\n",
    "            city_list.append(c.text[9:-13])\n",
    "\n",
    "        zip = soup.find_all('div', class_=\"addr-component\")\n",
    "        for z in zip:\n",
    "            zip_list.append(z.text[-12:-7])\n",
    "\n",
    "print(len(price_list))\n",
    "print(len(bed_list))\n",
    "print(len(bath_list))\n",
    "print(len(address_list))\n",
    "print(len(city_list))\n",
    "print(len(zip_list))"
   ]
  },
  {
   "cell_type": "code",
   "execution_count": 7,
   "metadata": {},
   "outputs": [
    {
     "data": {
      "text/html": [
       "<div>\n",
       "<style scoped>\n",
       "    .dataframe tbody tr th:only-of-type {\n",
       "        vertical-align: middle;\n",
       "    }\n",
       "\n",
       "    .dataframe tbody tr th {\n",
       "        vertical-align: top;\n",
       "    }\n",
       "\n",
       "    .dataframe thead th {\n",
       "        text-align: right;\n",
       "    }\n",
       "</style>\n",
       "<table border=\"1\" class=\"dataframe\">\n",
       "  <thead>\n",
       "    <tr style=\"text-align: right;\">\n",
       "      <th></th>\n",
       "      <th>Price</th>\n",
       "      <th># of Beds</th>\n",
       "      <th># of Baths</th>\n",
       "      <th>Address</th>\n",
       "      <th>City</th>\n",
       "      <th>Zip Code</th>\n",
       "    </tr>\n",
       "  </thead>\n",
       "  <tbody>\n",
       "    <tr>\n",
       "      <th>0</th>\n",
       "      <td>$124,900</td>\n",
       "      <td>2 Bd</td>\n",
       "      <td>2 bath</td>\n",
       "      <td>12484 Abrams Road</td>\n",
       "      <td>Dallas, TX</td>\n",
       "      <td>75243</td>\n",
       "    </tr>\n",
       "    <tr>\n",
       "      <th>1</th>\n",
       "      <td>$149,000</td>\n",
       "      <td>1 Bd</td>\n",
       "      <td>2 bath</td>\n",
       "      <td>5200 Martel Avenue</td>\n",
       "      <td>Dallas, TX</td>\n",
       "      <td>75206</td>\n",
       "    </tr>\n",
       "    <tr>\n",
       "      <th>2</th>\n",
       "      <td>$159,999</td>\n",
       "      <td>1 Bd</td>\n",
       "      <td>2 bath</td>\n",
       "      <td>5100 Verde Valley Lane</td>\n",
       "      <td>Dallas, TX</td>\n",
       "      <td>75254</td>\n",
       "    </tr>\n",
       "    <tr>\n",
       "      <th>3</th>\n",
       "      <td>$160,000</td>\n",
       "      <td>2 Bd</td>\n",
       "      <td>1 bath</td>\n",
       "      <td>2514 Glenfield Avenue</td>\n",
       "      <td>Dallas, TX</td>\n",
       "      <td>75233</td>\n",
       "    </tr>\n",
       "    <tr>\n",
       "      <th>4</th>\n",
       "      <td>$170,000</td>\n",
       "      <td>2 Bd</td>\n",
       "      <td>3 bath</td>\n",
       "      <td>10566 High Hollows Drive</td>\n",
       "      <td>Dallas, TX</td>\n",
       "      <td>75230</td>\n",
       "    </tr>\n",
       "    <tr>\n",
       "      <th>...</th>\n",
       "      <td>...</td>\n",
       "      <td>...</td>\n",
       "      <td>...</td>\n",
       "      <td>...</td>\n",
       "      <td>...</td>\n",
       "      <td>...</td>\n",
       "    </tr>\n",
       "    <tr>\n",
       "      <th>2701</th>\n",
       "      <td>$285,000</td>\n",
       "      <td>4 Bd</td>\n",
       "      <td>3 bath</td>\n",
       "      <td>729 Gibson Street</td>\n",
       "      <td>Cedar Hill, TX</td>\n",
       "      <td>75104</td>\n",
       "    </tr>\n",
       "    <tr>\n",
       "      <th>2702</th>\n",
       "      <td>$242,500</td>\n",
       "      <td>3 Bd</td>\n",
       "      <td>2 bath</td>\n",
       "      <td>415 Meadow Ridge Drive</td>\n",
       "      <td>Cedar Hill, TX</td>\n",
       "      <td>75104</td>\n",
       "    </tr>\n",
       "    <tr>\n",
       "      <th>2703</th>\n",
       "      <td>$1,700,000</td>\n",
       "      <td>4 Bd</td>\n",
       "      <td>4 bath</td>\n",
       "      <td>1737 Valley View Drive</td>\n",
       "      <td>Cedar Hill, TX</td>\n",
       "      <td>75104</td>\n",
       "    </tr>\n",
       "    <tr>\n",
       "      <th>2704</th>\n",
       "      <td>$268,000</td>\n",
       "      <td>5 Bd</td>\n",
       "      <td>3 bath</td>\n",
       "      <td>301 Oak Lane</td>\n",
       "      <td>Cedar Hill, TX</td>\n",
       "      <td>75104</td>\n",
       "    </tr>\n",
       "    <tr>\n",
       "      <th>2705</th>\n",
       "      <td>$225,000</td>\n",
       "      <td>3 Bd</td>\n",
       "      <td>2 bath</td>\n",
       "      <td>122 Cooper Street</td>\n",
       "      <td>Cedar Hill, TX</td>\n",
       "      <td>75104</td>\n",
       "    </tr>\n",
       "  </tbody>\n",
       "</table>\n",
       "<p>2706 rows × 6 columns</p>\n",
       "</div>"
      ],
      "text/plain": [
       "           Price # of Beds # of Baths                   Address  \\\n",
       "0       $124,900      2 Bd     2 bath         12484 Abrams Road   \n",
       "1       $149,000      1 Bd     2 bath        5200 Martel Avenue   \n",
       "2       $159,999      1 Bd     2 bath    5100 Verde Valley Lane   \n",
       "3       $160,000      2 Bd     1 bath     2514 Glenfield Avenue   \n",
       "4       $170,000      2 Bd     3 bath  10566 High Hollows Drive   \n",
       "...          ...       ...        ...                       ...   \n",
       "2701    $285,000      4 Bd     3 bath         729 Gibson Street   \n",
       "2702    $242,500      3 Bd     2 bath    415 Meadow Ridge Drive   \n",
       "2703  $1,700,000      4 Bd     4 bath    1737 Valley View Drive   \n",
       "2704    $268,000      5 Bd     3 bath              301 Oak Lane   \n",
       "2705    $225,000      3 Bd     2 bath         122 Cooper Street   \n",
       "\n",
       "                City Zip Code  \n",
       "0         Dallas, TX    75243  \n",
       "1         Dallas, TX    75206  \n",
       "2         Dallas, TX    75254  \n",
       "3         Dallas, TX    75233  \n",
       "4         Dallas, TX    75230  \n",
       "...              ...      ...  \n",
       "2701  Cedar Hill, TX    75104  \n",
       "2702  Cedar Hill, TX    75104  \n",
       "2703  Cedar Hill, TX    75104  \n",
       "2704  Cedar Hill, TX    75104  \n",
       "2705  Cedar Hill, TX    75104  \n",
       "\n",
       "[2706 rows x 6 columns]"
      ]
     },
     "execution_count": 7,
     "metadata": {},
     "output_type": "execute_result"
    }
   ],
   "source": [
    "df = pd.DataFrame({\"Price\": price_list, \n",
    "                   \"# of Beds\": bed_list, \n",
    "                   \"# of Baths\": bath_list, \n",
    "                   \"Address\": address_list, \n",
    "                   \"City\": city_list,\n",
    "                   \"Zip Code\": zip_list})\n",
    "df"
   ]
  },
  {
   "cell_type": "code",
   "execution_count": null,
   "metadata": {},
   "outputs": [],
   "source": []
  },
  {
   "cell_type": "code",
   "execution_count": 8,
   "metadata": {},
   "outputs": [],
   "source": [
    "browser.quit()"
   ]
  },
  {
   "cell_type": "code",
   "execution_count": 9,
   "metadata": {},
   "outputs": [],
   "source": [
    "df.to_csv(\"../CSVs/HomeFinder_Scrape.csv\")"
   ]
  },
  {
   "cell_type": "code",
   "execution_count": null,
   "metadata": {},
   "outputs": [],
   "source": []
  }
 ],
 "metadata": {
  "kernelspec": {
   "display_name": "Python 3",
   "language": "python",
   "name": "python3"
  },
  "language_info": {
   "codemirror_mode": {
    "name": "ipython",
    "version": 3
   },
   "file_extension": ".py",
   "mimetype": "text/x-python",
   "name": "python",
   "nbconvert_exporter": "python",
   "pygments_lexer": "ipython3",
   "version": "3.8.5"
  }
 },
 "nbformat": 4,
 "nbformat_minor": 4
}
